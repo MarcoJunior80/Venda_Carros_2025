{
 "cells": [
  {
   "cell_type": "markdown",
   "id": "951ab400880f33d2",
   "metadata": {},
   "source": [
    "# **IMPORTANDO AS BIBLIOTECAS**"
   ]
  },
  {
   "cell_type": "code",
   "id": "initial_id",
   "metadata": {
    "collapsed": true,
    "ExecuteTime": {
     "end_time": "2025-08-25T17:12:21.656925Z",
     "start_time": "2025-08-25T17:12:21.650447Z"
    }
   },
   "source": [
    "from statistics import median\n",
    "\n",
    "import pandas as pd # biblioteca para manipulação de dados\n",
    "import seaborn as sns  # biblioteca para visualização de dados\n",
    "import matplotlib.pyplot as plt # biblioteca para visualização de dados\n",
    "import numpy as np # biblioteca para cálculos matemáticos"
   ],
   "outputs": [],
   "execution_count": 30
  },
  {
   "cell_type": "markdown",
   "id": "1d27cd5a826f37d2",
   "metadata": {},
   "source": [
    "# **IMPORTANDO OS DADOS**"
   ]
  },
  {
   "cell_type": "code",
   "id": "df3a42d8ec5b3392",
   "metadata": {
    "ExecuteTime": {
     "end_time": "2025-08-25T17:12:21.729978Z",
     "start_time": "2025-08-25T17:12:21.683534Z"
    }
   },
   "source": [
    "carros = pd.read_csv(r\"C:\\\\Users\\\\marco\\\\OneDrive\\\\Documentos\\Carros mais vendidos 2025\\\\used_car_listings.csv\")\n",
    "\n",
    "pd.set_option('display.max_rows', None) # para mostrar todas as linhas\n",
    "pd.set_option('display.max_columns', None) # para mostrar todas as colunas\n",
    "pd.set_option('display.width', None) # para mostrar todas as colunas sem quebrar a linha\n",
    "\n",
    "pd.set_option('display.float_format', '{:.2f}'.format) # para mostrar os números com 2 casas decimais\n",
    "\n",
    "\n",
    "carros.head(2)"
   ],
   "outputs": [
    {
     "data": {
      "text/plain": [
       "   listing_id                vin    make    model  year trim body_type  \\\n",
       "0           1  9M6LF68V634LY2252   Tesla  Model 3  2019  NaN     Coupe   \n",
       "1           2  1S0ZCY536BSCY2864  Nissan    Rogue  2024   LT     Sedan   \n",
       "\n",
       "  fuel_type transmission  mileage    price condition             location  \\\n",
       "0  Electric       Manual    46134 19919.00      good  New Lindsey, GA, US   \n",
       "1    Hybrid    Automatic    16109 19480.00      good     Pughtown, CO, US   \n",
       "\n",
       "  seller_type                                           features  \n",
       "0      Dealer  Alloy Wheels, Android Auto, Apple CarPlay, Fog...  \n",
       "1      Dealer  Alloy Wheels, Android Auto, Lane Keep Assist, ...  "
      ],
      "text/html": [
       "<div>\n",
       "<style scoped>\n",
       "    .dataframe tbody tr th:only-of-type {\n",
       "        vertical-align: middle;\n",
       "    }\n",
       "\n",
       "    .dataframe tbody tr th {\n",
       "        vertical-align: top;\n",
       "    }\n",
       "\n",
       "    .dataframe thead th {\n",
       "        text-align: right;\n",
       "    }\n",
       "</style>\n",
       "<table border=\"1\" class=\"dataframe\">\n",
       "  <thead>\n",
       "    <tr style=\"text-align: right;\">\n",
       "      <th></th>\n",
       "      <th>listing_id</th>\n",
       "      <th>vin</th>\n",
       "      <th>make</th>\n",
       "      <th>model</th>\n",
       "      <th>year</th>\n",
       "      <th>trim</th>\n",
       "      <th>body_type</th>\n",
       "      <th>fuel_type</th>\n",
       "      <th>transmission</th>\n",
       "      <th>mileage</th>\n",
       "      <th>price</th>\n",
       "      <th>condition</th>\n",
       "      <th>location</th>\n",
       "      <th>seller_type</th>\n",
       "      <th>features</th>\n",
       "    </tr>\n",
       "  </thead>\n",
       "  <tbody>\n",
       "    <tr>\n",
       "      <th>0</th>\n",
       "      <td>1</td>\n",
       "      <td>9M6LF68V634LY2252</td>\n",
       "      <td>Tesla</td>\n",
       "      <td>Model 3</td>\n",
       "      <td>2019</td>\n",
       "      <td>NaN</td>\n",
       "      <td>Coupe</td>\n",
       "      <td>Electric</td>\n",
       "      <td>Manual</td>\n",
       "      <td>46134</td>\n",
       "      <td>19919.00</td>\n",
       "      <td>good</td>\n",
       "      <td>New Lindsey, GA, US</td>\n",
       "      <td>Dealer</td>\n",
       "      <td>Alloy Wheels, Android Auto, Apple CarPlay, Fog...</td>\n",
       "    </tr>\n",
       "    <tr>\n",
       "      <th>1</th>\n",
       "      <td>2</td>\n",
       "      <td>1S0ZCY536BSCY2864</td>\n",
       "      <td>Nissan</td>\n",
       "      <td>Rogue</td>\n",
       "      <td>2024</td>\n",
       "      <td>LT</td>\n",
       "      <td>Sedan</td>\n",
       "      <td>Hybrid</td>\n",
       "      <td>Automatic</td>\n",
       "      <td>16109</td>\n",
       "      <td>19480.00</td>\n",
       "      <td>good</td>\n",
       "      <td>Pughtown, CO, US</td>\n",
       "      <td>Dealer</td>\n",
       "      <td>Alloy Wheels, Android Auto, Lane Keep Assist, ...</td>\n",
       "    </tr>\n",
       "  </tbody>\n",
       "</table>\n",
       "</div>"
      ]
     },
     "execution_count": 31,
     "metadata": {},
     "output_type": "execute_result"
    }
   ],
   "execution_count": 31
  },
  {
   "cell_type": "markdown",
   "id": "db0814780f6897dc",
   "metadata": {},
   "source": [
    "# **RENOMEANDO AS COLUNAS PARA PORTUGUÊS**"
   ]
  },
  {
   "cell_type": "code",
   "id": "c284e5b050b61556",
   "metadata": {
    "ExecuteTime": {
     "end_time": "2025-08-25T17:12:21.887914Z",
     "start_time": "2025-08-25T17:12:21.878219Z"
    }
   },
   "source": [
    "carros.rename(columns={\n",
    "    'listing_id': 'id_lista',\n",
    "    'vin': 'N° Identificação Veículo',\n",
    "    'make': 'marca',\n",
    "    'model': 'modelo',\n",
    "    'year': 'ano',\n",
    "    'trim': 'versão',\n",
    "    'body_type': 'tipo_carroceria',\n",
    "    'fuel_type': 'tipo_combustivel',\n",
    "    'transmission': 'transmissão',\n",
    "    'mileage': 'quilometragem',\n",
    "    'price': 'preço',\n",
    "    'condition': 'condição',\n",
    "    'location': 'localização',\n",
    "    'seller_type': 'tipo_vendedor',\n",
    "    'features': 'características'}, inplace=True)"
   ],
   "outputs": [],
   "execution_count": 32
  },
  {
   "cell_type": "markdown",
   "id": "b65905d00a25a821",
   "metadata": {},
   "source": [
    "# **ANALISANDO OS DADOS**"
   ]
  },
  {
   "cell_type": "markdown",
   "id": "4086236186b55db6",
   "metadata": {},
   "source": "## **Exibindo as 5 primeiras linhas do DataFrame com o .head()**"
  },
  {
   "cell_type": "code",
   "id": "5c8555c6154baebe",
   "metadata": {
    "ExecuteTime": {
     "end_time": "2025-08-25T17:12:21.984917Z",
     "start_time": "2025-08-25T17:12:21.959952Z"
    }
   },
   "source": [
    "# Exibe as primeiras 5 linhas do DataFrame\n",
    "carros.head()"
   ],
   "outputs": [
    {
     "data": {
      "text/plain": [
       "   id_lista N° Identificação Veículo    marca    modelo   ano versão  \\\n",
       "0         1        9M6LF68V634LY2252    Tesla   Model 3  2019    NaN   \n",
       "1         2        1S0ZCY536BSCY2864   Nissan     Rogue  2024     LT   \n",
       "2         3        YFB625BN0RTMZ5590  Hyundai       i20  2018    XLE   \n",
       "3         4        CPMZ4RFN5WYL37096      Kia  Sportage  2023     EX   \n",
       "4         5        4PJZG3MV6D9365673      Kia    Seltos  2020  Trend   \n",
       "\n",
       "  tipo_carroceria tipo_combustivel transmissão  quilometragem    preço  \\\n",
       "0           Coupe         Electric      Manual          46134 19919.00   \n",
       "1           Sedan           Hybrid   Automatic          16109 19480.00   \n",
       "2       Crossover           Petrol   Automatic         173239  4556.00   \n",
       "3       Hatchback           Diesel         CVT          36810 11536.00   \n",
       "4          Pickup           Diesel   Automatic          87749 14098.00   \n",
       "\n",
       "  condição           localização        tipo_vendedor  \\\n",
       "0     good   New Lindsey, GA, US               Dealer   \n",
       "1     good      Pughtown, CO, US               Dealer   \n",
       "2     good      Satna, HR, India               Dealer   \n",
       "3     fair     山武市, Osaka, Japan  Certified Pre-Owned   \n",
       "4     good  長生郡長生村, Osaka, Japan  Certified Pre-Owned   \n",
       "\n",
       "                                     características  \n",
       "0  Alloy Wheels, Android Auto, Apple CarPlay, Fog...  \n",
       "1  Alloy Wheels, Android Auto, Lane Keep Assist, ...  \n",
       "2   Alloy Wheels, Bluetooth, Panoramic Roof, Sunroof  \n",
       "3  Alloy Wheels, Bluetooth, Keyless Entry, Naviga...  \n",
       "4  Apple CarPlay, Backup Camera, Bluetooth, Heate...  "
      ],
      "text/html": [
       "<div>\n",
       "<style scoped>\n",
       "    .dataframe tbody tr th:only-of-type {\n",
       "        vertical-align: middle;\n",
       "    }\n",
       "\n",
       "    .dataframe tbody tr th {\n",
       "        vertical-align: top;\n",
       "    }\n",
       "\n",
       "    .dataframe thead th {\n",
       "        text-align: right;\n",
       "    }\n",
       "</style>\n",
       "<table border=\"1\" class=\"dataframe\">\n",
       "  <thead>\n",
       "    <tr style=\"text-align: right;\">\n",
       "      <th></th>\n",
       "      <th>id_lista</th>\n",
       "      <th>N° Identificação Veículo</th>\n",
       "      <th>marca</th>\n",
       "      <th>modelo</th>\n",
       "      <th>ano</th>\n",
       "      <th>versão</th>\n",
       "      <th>tipo_carroceria</th>\n",
       "      <th>tipo_combustivel</th>\n",
       "      <th>transmissão</th>\n",
       "      <th>quilometragem</th>\n",
       "      <th>preço</th>\n",
       "      <th>condição</th>\n",
       "      <th>localização</th>\n",
       "      <th>tipo_vendedor</th>\n",
       "      <th>características</th>\n",
       "    </tr>\n",
       "  </thead>\n",
       "  <tbody>\n",
       "    <tr>\n",
       "      <th>0</th>\n",
       "      <td>1</td>\n",
       "      <td>9M6LF68V634LY2252</td>\n",
       "      <td>Tesla</td>\n",
       "      <td>Model 3</td>\n",
       "      <td>2019</td>\n",
       "      <td>NaN</td>\n",
       "      <td>Coupe</td>\n",
       "      <td>Electric</td>\n",
       "      <td>Manual</td>\n",
       "      <td>46134</td>\n",
       "      <td>19919.00</td>\n",
       "      <td>good</td>\n",
       "      <td>New Lindsey, GA, US</td>\n",
       "      <td>Dealer</td>\n",
       "      <td>Alloy Wheels, Android Auto, Apple CarPlay, Fog...</td>\n",
       "    </tr>\n",
       "    <tr>\n",
       "      <th>1</th>\n",
       "      <td>2</td>\n",
       "      <td>1S0ZCY536BSCY2864</td>\n",
       "      <td>Nissan</td>\n",
       "      <td>Rogue</td>\n",
       "      <td>2024</td>\n",
       "      <td>LT</td>\n",
       "      <td>Sedan</td>\n",
       "      <td>Hybrid</td>\n",
       "      <td>Automatic</td>\n",
       "      <td>16109</td>\n",
       "      <td>19480.00</td>\n",
       "      <td>good</td>\n",
       "      <td>Pughtown, CO, US</td>\n",
       "      <td>Dealer</td>\n",
       "      <td>Alloy Wheels, Android Auto, Lane Keep Assist, ...</td>\n",
       "    </tr>\n",
       "    <tr>\n",
       "      <th>2</th>\n",
       "      <td>3</td>\n",
       "      <td>YFB625BN0RTMZ5590</td>\n",
       "      <td>Hyundai</td>\n",
       "      <td>i20</td>\n",
       "      <td>2018</td>\n",
       "      <td>XLE</td>\n",
       "      <td>Crossover</td>\n",
       "      <td>Petrol</td>\n",
       "      <td>Automatic</td>\n",
       "      <td>173239</td>\n",
       "      <td>4556.00</td>\n",
       "      <td>good</td>\n",
       "      <td>Satna, HR, India</td>\n",
       "      <td>Dealer</td>\n",
       "      <td>Alloy Wheels, Bluetooth, Panoramic Roof, Sunroof</td>\n",
       "    </tr>\n",
       "    <tr>\n",
       "      <th>3</th>\n",
       "      <td>4</td>\n",
       "      <td>CPMZ4RFN5WYL37096</td>\n",
       "      <td>Kia</td>\n",
       "      <td>Sportage</td>\n",
       "      <td>2023</td>\n",
       "      <td>EX</td>\n",
       "      <td>Hatchback</td>\n",
       "      <td>Diesel</td>\n",
       "      <td>CVT</td>\n",
       "      <td>36810</td>\n",
       "      <td>11536.00</td>\n",
       "      <td>fair</td>\n",
       "      <td>山武市, Osaka, Japan</td>\n",
       "      <td>Certified Pre-Owned</td>\n",
       "      <td>Alloy Wheels, Bluetooth, Keyless Entry, Naviga...</td>\n",
       "    </tr>\n",
       "    <tr>\n",
       "      <th>4</th>\n",
       "      <td>5</td>\n",
       "      <td>4PJZG3MV6D9365673</td>\n",
       "      <td>Kia</td>\n",
       "      <td>Seltos</td>\n",
       "      <td>2020</td>\n",
       "      <td>Trend</td>\n",
       "      <td>Pickup</td>\n",
       "      <td>Diesel</td>\n",
       "      <td>Automatic</td>\n",
       "      <td>87749</td>\n",
       "      <td>14098.00</td>\n",
       "      <td>good</td>\n",
       "      <td>長生郡長生村, Osaka, Japan</td>\n",
       "      <td>Certified Pre-Owned</td>\n",
       "      <td>Apple CarPlay, Backup Camera, Bluetooth, Heate...</td>\n",
       "    </tr>\n",
       "  </tbody>\n",
       "</table>\n",
       "</div>"
      ]
     },
     "execution_count": 33,
     "metadata": {},
     "output_type": "execute_result"
    }
   ],
   "execution_count": 33
  },
  {
   "metadata": {
    "ExecuteTime": {
     "end_time": "2025-08-25T17:12:22.167105Z",
     "start_time": "2025-08-25T17:12:22.134019Z"
    }
   },
   "cell_type": "code",
   "source": [
    "# Exibe as últimas 5 linhas do DataFrame\n",
    "carros.tail()"
   ],
   "id": "71e469df0ca70829",
   "outputs": [
    {
     "data": {
      "text/plain": [
       "      id_lista N° Identificação Veículo      marca   modelo   ano    versão  \\\n",
       "2063      2064        06B83BVF8F2W81547      Skoda   Kushaq  2023     Sport   \n",
       "2064      2065        4P7083L79MBVK5696   Mahindra  Scorpio  2016       XSE   \n",
       "2065      2066        5RERFW1M7B00A4061       Audi       A6  2018        EX   \n",
       "2066      2067        DJB6DBAS5UNNX0757      Skoda   Kushaq  2021        LX   \n",
       "2067      2068        8BUANECR64R9L0827  Chevrolet   Malibu  2024  Platinum   \n",
       "\n",
       "     tipo_carroceria tipo_combustivel transmissão  quilometragem    preço  \\\n",
       "2063          Pickup           Petrol   Automatic          24566 34696.00   \n",
       "2064             SUV           Diesel   Automatic         122459  2642.00   \n",
       "2065       Hatchback           Diesel         DCT         120452  7093.00   \n",
       "2066             MPV           Petrol      Manual          57043 11296.00   \n",
       "2067           Sedan           Diesel   Automatic          20218 23558.00   \n",
       "\n",
       "       condição              localização        tipo_vendedor  \\\n",
       "2063   like new  Shahjahanpur, KA, India  Certified Pre-Owned   \n",
       "2064  excellent      Marques, PR, Brazil               Dealer   \n",
       "2065       good       Dhanbad, KL, India        Private Party   \n",
       "2066  excellent  Caitlinstad, NL, Canada  Certified Pre-Owned   \n",
       "2067  excellent   Stadtroda, HH, Germany  Certified Pre-Owned   \n",
       "\n",
       "                                        características  \n",
       "2063  Blind Spot Monitor, Keyless Entry, Panoramic R...  \n",
       "2064  Adaptive Cruise Control, Backup Camera, LED He...  \n",
       "2065  Adaptive Cruise Control, Android Auto, Blind S...  \n",
       "2066  Backup Camera, Panoramic Roof, Parking Sensors...  \n",
       "2067  Adaptive Cruise Control, Android Auto, Apple C...  "
      ],
      "text/html": [
       "<div>\n",
       "<style scoped>\n",
       "    .dataframe tbody tr th:only-of-type {\n",
       "        vertical-align: middle;\n",
       "    }\n",
       "\n",
       "    .dataframe tbody tr th {\n",
       "        vertical-align: top;\n",
       "    }\n",
       "\n",
       "    .dataframe thead th {\n",
       "        text-align: right;\n",
       "    }\n",
       "</style>\n",
       "<table border=\"1\" class=\"dataframe\">\n",
       "  <thead>\n",
       "    <tr style=\"text-align: right;\">\n",
       "      <th></th>\n",
       "      <th>id_lista</th>\n",
       "      <th>N° Identificação Veículo</th>\n",
       "      <th>marca</th>\n",
       "      <th>modelo</th>\n",
       "      <th>ano</th>\n",
       "      <th>versão</th>\n",
       "      <th>tipo_carroceria</th>\n",
       "      <th>tipo_combustivel</th>\n",
       "      <th>transmissão</th>\n",
       "      <th>quilometragem</th>\n",
       "      <th>preço</th>\n",
       "      <th>condição</th>\n",
       "      <th>localização</th>\n",
       "      <th>tipo_vendedor</th>\n",
       "      <th>características</th>\n",
       "    </tr>\n",
       "  </thead>\n",
       "  <tbody>\n",
       "    <tr>\n",
       "      <th>2063</th>\n",
       "      <td>2064</td>\n",
       "      <td>06B83BVF8F2W81547</td>\n",
       "      <td>Skoda</td>\n",
       "      <td>Kushaq</td>\n",
       "      <td>2023</td>\n",
       "      <td>Sport</td>\n",
       "      <td>Pickup</td>\n",
       "      <td>Petrol</td>\n",
       "      <td>Automatic</td>\n",
       "      <td>24566</td>\n",
       "      <td>34696.00</td>\n",
       "      <td>like new</td>\n",
       "      <td>Shahjahanpur, KA, India</td>\n",
       "      <td>Certified Pre-Owned</td>\n",
       "      <td>Blind Spot Monitor, Keyless Entry, Panoramic R...</td>\n",
       "    </tr>\n",
       "    <tr>\n",
       "      <th>2064</th>\n",
       "      <td>2065</td>\n",
       "      <td>4P7083L79MBVK5696</td>\n",
       "      <td>Mahindra</td>\n",
       "      <td>Scorpio</td>\n",
       "      <td>2016</td>\n",
       "      <td>XSE</td>\n",
       "      <td>SUV</td>\n",
       "      <td>Diesel</td>\n",
       "      <td>Automatic</td>\n",
       "      <td>122459</td>\n",
       "      <td>2642.00</td>\n",
       "      <td>excellent</td>\n",
       "      <td>Marques, PR, Brazil</td>\n",
       "      <td>Dealer</td>\n",
       "      <td>Adaptive Cruise Control, Backup Camera, LED He...</td>\n",
       "    </tr>\n",
       "    <tr>\n",
       "      <th>2065</th>\n",
       "      <td>2066</td>\n",
       "      <td>5RERFW1M7B00A4061</td>\n",
       "      <td>Audi</td>\n",
       "      <td>A6</td>\n",
       "      <td>2018</td>\n",
       "      <td>EX</td>\n",
       "      <td>Hatchback</td>\n",
       "      <td>Diesel</td>\n",
       "      <td>DCT</td>\n",
       "      <td>120452</td>\n",
       "      <td>7093.00</td>\n",
       "      <td>good</td>\n",
       "      <td>Dhanbad, KL, India</td>\n",
       "      <td>Private Party</td>\n",
       "      <td>Adaptive Cruise Control, Android Auto, Blind S...</td>\n",
       "    </tr>\n",
       "    <tr>\n",
       "      <th>2066</th>\n",
       "      <td>2067</td>\n",
       "      <td>DJB6DBAS5UNNX0757</td>\n",
       "      <td>Skoda</td>\n",
       "      <td>Kushaq</td>\n",
       "      <td>2021</td>\n",
       "      <td>LX</td>\n",
       "      <td>MPV</td>\n",
       "      <td>Petrol</td>\n",
       "      <td>Manual</td>\n",
       "      <td>57043</td>\n",
       "      <td>11296.00</td>\n",
       "      <td>excellent</td>\n",
       "      <td>Caitlinstad, NL, Canada</td>\n",
       "      <td>Certified Pre-Owned</td>\n",
       "      <td>Backup Camera, Panoramic Roof, Parking Sensors...</td>\n",
       "    </tr>\n",
       "    <tr>\n",
       "      <th>2067</th>\n",
       "      <td>2068</td>\n",
       "      <td>8BUANECR64R9L0827</td>\n",
       "      <td>Chevrolet</td>\n",
       "      <td>Malibu</td>\n",
       "      <td>2024</td>\n",
       "      <td>Platinum</td>\n",
       "      <td>Sedan</td>\n",
       "      <td>Diesel</td>\n",
       "      <td>Automatic</td>\n",
       "      <td>20218</td>\n",
       "      <td>23558.00</td>\n",
       "      <td>excellent</td>\n",
       "      <td>Stadtroda, HH, Germany</td>\n",
       "      <td>Certified Pre-Owned</td>\n",
       "      <td>Adaptive Cruise Control, Android Auto, Apple C...</td>\n",
       "    </tr>\n",
       "  </tbody>\n",
       "</table>\n",
       "</div>"
      ]
     },
     "execution_count": 34,
     "metadata": {},
     "output_type": "execute_result"
    }
   ],
   "execution_count": 34
  },
  {
   "cell_type": "markdown",
   "id": "21c0b79a5473b58",
   "metadata": {},
   "source": "## **Exibindo as informações sobre os tipos de dados com o .info()**"
  },
  {
   "cell_type": "code",
   "id": "80c366fbff05a3bb",
   "metadata": {
    "ExecuteTime": {
     "end_time": "2025-08-25T17:12:22.314519Z",
     "start_time": "2025-08-25T17:12:22.292773Z"
    }
   },
   "source": [
    "# Exibe informações sobre os tipos de dados e valores não nulos\n",
    "carros.info()"
   ],
   "outputs": [
    {
     "name": "stdout",
     "output_type": "stream",
     "text": [
      "<class 'pandas.core.frame.DataFrame'>\n",
      "RangeIndex: 2068 entries, 0 to 2067\n",
      "Data columns (total 15 columns):\n",
      " #   Column                    Non-Null Count  Dtype  \n",
      "---  ------                    --------------  -----  \n",
      " 0   id_lista                  2068 non-null   int64  \n",
      " 1   N° Identificação Veículo  2068 non-null   object \n",
      " 2   marca                     2068 non-null   object \n",
      " 3   modelo                    2068 non-null   object \n",
      " 4   ano                       2068 non-null   int64  \n",
      " 5   versão                    1824 non-null   object \n",
      " 6   tipo_carroceria           2068 non-null   object \n",
      " 7   tipo_combustivel          2068 non-null   object \n",
      " 8   transmissão               2068 non-null   object \n",
      " 9   quilometragem             2068 non-null   int64  \n",
      " 10  preço                     2068 non-null   float64\n",
      " 11  condição                  2022 non-null   object \n",
      " 12  localização               2068 non-null   object \n",
      " 13  tipo_vendedor             2068 non-null   object \n",
      " 14  características           1917 non-null   object \n",
      "dtypes: float64(1), int64(3), object(11)\n",
      "memory usage: 242.5+ KB\n"
     ]
    }
   ],
   "execution_count": 35
  },
  {
   "metadata": {},
   "cell_type": "markdown",
   "source": "## **Exibindo o número de linhas e colunas com o .shape**",
   "id": "31e8817dea0ca8c7"
  },
  {
   "metadata": {
    "ExecuteTime": {
     "end_time": "2025-08-25T17:12:22.529668Z",
     "start_time": "2025-08-25T17:12:22.518345Z"
    }
   },
   "cell_type": "code",
   "source": [
    "# Exibe o número de linhas e colunas do DataFrame\n",
    "carros.shape"
   ],
   "id": "1a45c494775a4126",
   "outputs": [
    {
     "data": {
      "text/plain": [
       "(2068, 15)"
      ]
     },
     "execution_count": 36,
     "metadata": {},
     "output_type": "execute_result"
    }
   ],
   "execution_count": 36
  },
  {
   "cell_type": "markdown",
   "id": "5020178b0bcc982b",
   "metadata": {},
   "source": "## Exibindo estatísticas descritivas para colunas numéricas com o .describe()"
  },
  {
   "cell_type": "code",
   "id": "d1ec08daafc70fec",
   "metadata": {
    "ExecuteTime": {
     "end_time": "2025-08-25T17:12:22.699491Z",
     "start_time": "2025-08-25T17:12:22.667984Z"
    }
   },
   "source": [
    "# Exibe estatísticas descritivas para colunas numéricas\n",
    "carros.describe()"
   ],
   "outputs": [
    {
     "data": {
      "text/plain": [
       "       id_lista     ano  quilometragem    preço\n",
       "count   2068.00 2068.00        2068.00  2068.00\n",
       "mean    1034.50 2016.98      115626.36  9182.62\n",
       "std      597.12    4.61       80971.11  9964.09\n",
       "min        1.00 2005.00           0.00  1140.00\n",
       "25%      517.75 2014.00       57683.25  2323.75\n",
       "50%     1034.50 2017.00       99212.00  5448.50\n",
       "75%     1551.25 2020.00      159291.50 11946.75\n",
       "max     2068.00 2025.00      418428.00 72641.00"
      ],
      "text/html": [
       "<div>\n",
       "<style scoped>\n",
       "    .dataframe tbody tr th:only-of-type {\n",
       "        vertical-align: middle;\n",
       "    }\n",
       "\n",
       "    .dataframe tbody tr th {\n",
       "        vertical-align: top;\n",
       "    }\n",
       "\n",
       "    .dataframe thead th {\n",
       "        text-align: right;\n",
       "    }\n",
       "</style>\n",
       "<table border=\"1\" class=\"dataframe\">\n",
       "  <thead>\n",
       "    <tr style=\"text-align: right;\">\n",
       "      <th></th>\n",
       "      <th>id_lista</th>\n",
       "      <th>ano</th>\n",
       "      <th>quilometragem</th>\n",
       "      <th>preço</th>\n",
       "    </tr>\n",
       "  </thead>\n",
       "  <tbody>\n",
       "    <tr>\n",
       "      <th>count</th>\n",
       "      <td>2068.00</td>\n",
       "      <td>2068.00</td>\n",
       "      <td>2068.00</td>\n",
       "      <td>2068.00</td>\n",
       "    </tr>\n",
       "    <tr>\n",
       "      <th>mean</th>\n",
       "      <td>1034.50</td>\n",
       "      <td>2016.98</td>\n",
       "      <td>115626.36</td>\n",
       "      <td>9182.62</td>\n",
       "    </tr>\n",
       "    <tr>\n",
       "      <th>std</th>\n",
       "      <td>597.12</td>\n",
       "      <td>4.61</td>\n",
       "      <td>80971.11</td>\n",
       "      <td>9964.09</td>\n",
       "    </tr>\n",
       "    <tr>\n",
       "      <th>min</th>\n",
       "      <td>1.00</td>\n",
       "      <td>2005.00</td>\n",
       "      <td>0.00</td>\n",
       "      <td>1140.00</td>\n",
       "    </tr>\n",
       "    <tr>\n",
       "      <th>25%</th>\n",
       "      <td>517.75</td>\n",
       "      <td>2014.00</td>\n",
       "      <td>57683.25</td>\n",
       "      <td>2323.75</td>\n",
       "    </tr>\n",
       "    <tr>\n",
       "      <th>50%</th>\n",
       "      <td>1034.50</td>\n",
       "      <td>2017.00</td>\n",
       "      <td>99212.00</td>\n",
       "      <td>5448.50</td>\n",
       "    </tr>\n",
       "    <tr>\n",
       "      <th>75%</th>\n",
       "      <td>1551.25</td>\n",
       "      <td>2020.00</td>\n",
       "      <td>159291.50</td>\n",
       "      <td>11946.75</td>\n",
       "    </tr>\n",
       "    <tr>\n",
       "      <th>max</th>\n",
       "      <td>2068.00</td>\n",
       "      <td>2025.00</td>\n",
       "      <td>418428.00</td>\n",
       "      <td>72641.00</td>\n",
       "    </tr>\n",
       "  </tbody>\n",
       "</table>\n",
       "</div>"
      ]
     },
     "execution_count": 37,
     "metadata": {},
     "output_type": "execute_result"
    }
   ],
   "execution_count": 37
  },
  {
   "cell_type": "markdown",
   "id": "2d3b760248fbe6ae",
   "metadata": {},
   "source": "## Verificando valores ausentes com o .isnull().sum()"
  },
  {
   "cell_type": "code",
   "id": "a0273583da5ac7c3",
   "metadata": {
    "ExecuteTime": {
     "end_time": "2025-08-25T17:12:22.810083Z",
     "start_time": "2025-08-25T17:12:22.793450Z"
    }
   },
   "source": [
    "# Exibe o número de valores ausentes em cada coluna\n",
    "carros.isnull().sum().sort_values(ascending=False)"
   ],
   "outputs": [
    {
     "data": {
      "text/plain": [
       "versão                      244\n",
       "características             151\n",
       "condição                     46\n",
       "marca                         0\n",
       "modelo                        0\n",
       "N° Identificação Veículo      0\n",
       "id_lista                      0\n",
       "tipo_carroceria               0\n",
       "ano                           0\n",
       "tipo_combustivel              0\n",
       "transmissão                   0\n",
       "preço                         0\n",
       "quilometragem                 0\n",
       "localização                   0\n",
       "tipo_vendedor                 0\n",
       "dtype: int64"
      ]
     },
     "execution_count": 38,
     "metadata": {},
     "output_type": "execute_result"
    }
   ],
   "execution_count": 38
  },
  {
   "cell_type": "markdown",
   "id": "ecdba5e2795127f7",
   "metadata": {},
   "source": "## Visualizando o percentual de valores vazios em cada coluna"
  },
  {
   "cell_type": "code",
   "id": "f00ffc09d04613cd",
   "metadata": {
    "ExecuteTime": {
     "end_time": "2025-08-25T17:12:22.911432Z",
     "start_time": "2025-08-25T17:12:22.896919Z"
    }
   },
   "source": [
    "# Exibe o percentual de valores ausentes em cada coluna\n",
    "(carros.isnull().sum() / len(carros) * 100).sort_values(ascending=False)"
   ],
   "outputs": [
    {
     "data": {
      "text/plain": [
       "versão                     11.80\n",
       "características             7.30\n",
       "condição                    2.22\n",
       "marca                       0.00\n",
       "modelo                      0.00\n",
       "N° Identificação Veículo    0.00\n",
       "id_lista                    0.00\n",
       "tipo_carroceria             0.00\n",
       "ano                         0.00\n",
       "tipo_combustivel            0.00\n",
       "transmissão                 0.00\n",
       "preço                       0.00\n",
       "quilometragem               0.00\n",
       "localização                 0.00\n",
       "tipo_vendedor               0.00\n",
       "dtype: float64"
      ]
     },
     "execution_count": 39,
     "metadata": {},
     "output_type": "execute_result"
    }
   ],
   "execution_count": 39
  },
  {
   "cell_type": "markdown",
   "id": "58ab2cd952ac8cd3",
   "metadata": {},
   "source": [
    "## **Preenchendo valores ausentes nas colunas 'versão', 'condição e 'caracteristicas**"
   ]
  },
  {
   "cell_type": "code",
   "id": "e4b00b5653f981ff",
   "metadata": {
    "ExecuteTime": {
     "end_time": "2025-08-25T17:12:23.001278Z",
     "start_time": "2025-08-25T17:12:22.982328Z"
    }
   },
   "source": [
    "carros.fillna({'versão': 'desconhecido',\n",
    "               'condição': 'desconhecido',\n",
    "               'características': 'desconhecido'}, inplace=True)\n",
    "carros.isnull().sum()\n"
   ],
   "outputs": [
    {
     "data": {
      "text/plain": [
       "id_lista                    0\n",
       "N° Identificação Veículo    0\n",
       "marca                       0\n",
       "modelo                      0\n",
       "ano                         0\n",
       "versão                      0\n",
       "tipo_carroceria             0\n",
       "tipo_combustivel            0\n",
       "transmissão                 0\n",
       "quilometragem               0\n",
       "preço                       0\n",
       "condição                    0\n",
       "localização                 0\n",
       "tipo_vendedor               0\n",
       "características             0\n",
       "dtype: int64"
      ]
     },
     "execution_count": 40,
     "metadata": {},
     "output_type": "execute_result"
    }
   ],
   "execution_count": 40
  },
  {
   "cell_type": "markdown",
   "id": "6e3706e0661422e6",
   "metadata": {},
   "source": [
    "## ****Verificando se há valores duplicados****"
   ]
  },
  {
   "metadata": {
    "ExecuteTime": {
     "end_time": "2025-08-25T17:12:23.077402Z",
     "start_time": "2025-08-25T17:12:23.066559Z"
    }
   },
   "cell_type": "code",
   "source": [
    "# Exibe o número de linhas duplicadas\n",
    "carros.duplicated().sum()"
   ],
   "id": "9ff8a2f96a70a409",
   "outputs": [
    {
     "data": {
      "text/plain": [
       "np.int64(0)"
      ]
     },
     "execution_count": 41,
     "metadata": {},
     "output_type": "execute_result"
    }
   ],
   "execution_count": 41
  },
  {
   "metadata": {},
   "cell_type": "markdown",
   "source": "## **Verificando se há valores iguais a zero nas colunas numéricas**",
   "id": "32516de72668a65b"
  },
  {
   "metadata": {
    "ExecuteTime": {
     "end_time": "2025-08-25T17:12:23.147975Z",
     "start_time": "2025-08-25T17:12:23.137316Z"
    }
   },
   "cell_type": "code",
   "source": [
    "# Exibe o número de valores iguais a zero em cada coluna\n",
    "(carros == 0).sum().sort_values(ascending=False)"
   ],
   "id": "bc504ffeaa46d432",
   "outputs": [
    {
     "data": {
      "text/plain": [
       "quilometragem               79\n",
       "N° Identificação Veículo     0\n",
       "id_lista                     0\n",
       "modelo                       0\n",
       "ano                          0\n",
       "versão                       0\n",
       "marca                        0\n",
       "tipo_carroceria              0\n",
       "tipo_combustivel             0\n",
       "transmissão                  0\n",
       "preço                        0\n",
       "condição                     0\n",
       "localização                  0\n",
       "tipo_vendedor                0\n",
       "características              0\n",
       "dtype: int64"
      ]
     },
     "execution_count": 42,
     "metadata": {},
     "output_type": "execute_result"
    }
   ],
   "execution_count": 42
  },
  {
   "metadata": {},
   "cell_type": "markdown",
   "source": "## **Tratando a coluna 'quilometragem' que possui valores iguais a zero**",
   "id": "95452e67d7d1c2f3"
  },
  {
   "metadata": {
    "ExecuteTime": {
     "end_time": "2025-08-25T17:12:23.227005Z",
     "start_time": "2025-08-25T17:12:23.210735Z"
    }
   },
   "cell_type": "code",
   "source": [
    "# Calcula a mediana ignorando os zeros\n",
    "mediana = carros[carros['quilometragem'] != 0]['quilometragem'].median()\n",
    "\n",
    "# Substitui os zeros pela mediana calculada\n",
    "carros['quilometragem'] = carros['quilometragem'].replace(0, mediana)\n",
    "\n",
    "carros['quilometragem'].describe()"
   ],
   "id": "3bb4db83cf9c6d91",
   "outputs": [
    {
     "data": {
      "text/plain": [
       "count     2068.00\n",
       "mean    119560.82\n",
       "std      77691.43\n",
       "min       5714.00\n",
       "25%      63954.00\n",
       "50%     102993.00\n",
       "75%     159291.50\n",
       "max     418428.00\n",
       "Name: quilometragem, dtype: float64"
      ]
     },
     "execution_count": 43,
     "metadata": {},
     "output_type": "execute_result"
    }
   ],
   "execution_count": 43
  },
  {
   "cell_type": "markdown",
   "id": "44b4d5fe64e29e7f",
   "metadata": {},
   "source": "## **Crianddo 3 novas colunas a partir dos dados da coluna 'localização' que continha Unidade Federativa (UF), Estado e País separados por virgula.**"
  },
  {
   "cell_type": "code",
   "id": "246c7c7eca6243f2",
   "metadata": {
    "ExecuteTime": {
     "end_time": "2025-08-25T17:12:23.311937Z",
     "start_time": "2025-08-25T17:12:23.279860Z"
    }
   },
   "source": [
    "carros[['estado', 'uf', 'pais']] = carros['localização'].str.split(',', expand=True) # expand=True cria novas colunas\n",
    "\n",
    "# Removendo espaços em branco extras (se houver)\n",
    "carros['estado'] = carros['estado'].str.strip()\n",
    "carros['uf'] = carros['uf'].str.strip()\n",
    "carros['pais'] = carros['pais'].str.strip()\n",
    "\n",
    "carros[['estado', 'uf', 'pais']].head(5)  # Exibe as primeiras 5 linhas do DataFrame após a separação"
   ],
   "outputs": [
    {
     "data": {
      "text/plain": [
       "        estado     uf   pais\n",
       "0  New Lindsey     GA     US\n",
       "1     Pughtown     CO     US\n",
       "2        Satna     HR  India\n",
       "3          山武市  Osaka  Japan\n",
       "4       長生郡長生村  Osaka  Japan"
      ],
      "text/html": [
       "<div>\n",
       "<style scoped>\n",
       "    .dataframe tbody tr th:only-of-type {\n",
       "        vertical-align: middle;\n",
       "    }\n",
       "\n",
       "    .dataframe tbody tr th {\n",
       "        vertical-align: top;\n",
       "    }\n",
       "\n",
       "    .dataframe thead th {\n",
       "        text-align: right;\n",
       "    }\n",
       "</style>\n",
       "<table border=\"1\" class=\"dataframe\">\n",
       "  <thead>\n",
       "    <tr style=\"text-align: right;\">\n",
       "      <th></th>\n",
       "      <th>estado</th>\n",
       "      <th>uf</th>\n",
       "      <th>pais</th>\n",
       "    </tr>\n",
       "  </thead>\n",
       "  <tbody>\n",
       "    <tr>\n",
       "      <th>0</th>\n",
       "      <td>New Lindsey</td>\n",
       "      <td>GA</td>\n",
       "      <td>US</td>\n",
       "    </tr>\n",
       "    <tr>\n",
       "      <th>1</th>\n",
       "      <td>Pughtown</td>\n",
       "      <td>CO</td>\n",
       "      <td>US</td>\n",
       "    </tr>\n",
       "    <tr>\n",
       "      <th>2</th>\n",
       "      <td>Satna</td>\n",
       "      <td>HR</td>\n",
       "      <td>India</td>\n",
       "    </tr>\n",
       "    <tr>\n",
       "      <th>3</th>\n",
       "      <td>山武市</td>\n",
       "      <td>Osaka</td>\n",
       "      <td>Japan</td>\n",
       "    </tr>\n",
       "    <tr>\n",
       "      <th>4</th>\n",
       "      <td>長生郡長生村</td>\n",
       "      <td>Osaka</td>\n",
       "      <td>Japan</td>\n",
       "    </tr>\n",
       "  </tbody>\n",
       "</table>\n",
       "</div>"
      ]
     },
     "execution_count": 44,
     "metadata": {},
     "output_type": "execute_result"
    }
   ],
   "execution_count": 44
  },
  {
   "metadata": {},
   "cell_type": "markdown",
   "source": "## **Criando novas colunas**",
   "id": "316b0351aa8ca69e"
  },
  {
   "metadata": {
    "ExecuteTime": {
     "end_time": "2025-08-25T17:12:23.365099Z",
     "start_time": "2025-08-25T17:12:23.353141Z"
    }
   },
   "cell_type": "code",
   "source": [
    "carros[\"idade\"]=2025-carros['ano']\n",
    "carros[\"km_ano\"]=carros['quilometragem']/carros[\"idade\"]\n",
    "\n",
    "carros[[\"idade\",\"km_ano\"]].head(10)"
   ],
   "id": "e873d80292e184f7",
   "outputs": [
    {
     "data": {
      "text/plain": [
       "   idade   km_ano\n",
       "0      6  7689.00\n",
       "1      1 16109.00\n",
       "2      7 24748.43\n",
       "3      2 18405.00\n",
       "4      5 17549.80\n",
       "5      6 10142.17\n",
       "6     12  7730.17\n",
       "7      8 25594.12\n",
       "8      7 14760.29\n",
       "9     10 11932.10"
      ],
      "text/html": [
       "<div>\n",
       "<style scoped>\n",
       "    .dataframe tbody tr th:only-of-type {\n",
       "        vertical-align: middle;\n",
       "    }\n",
       "\n",
       "    .dataframe tbody tr th {\n",
       "        vertical-align: top;\n",
       "    }\n",
       "\n",
       "    .dataframe thead th {\n",
       "        text-align: right;\n",
       "    }\n",
       "</style>\n",
       "<table border=\"1\" class=\"dataframe\">\n",
       "  <thead>\n",
       "    <tr style=\"text-align: right;\">\n",
       "      <th></th>\n",
       "      <th>idade</th>\n",
       "      <th>km_ano</th>\n",
       "    </tr>\n",
       "  </thead>\n",
       "  <tbody>\n",
       "    <tr>\n",
       "      <th>0</th>\n",
       "      <td>6</td>\n",
       "      <td>7689.00</td>\n",
       "    </tr>\n",
       "    <tr>\n",
       "      <th>1</th>\n",
       "      <td>1</td>\n",
       "      <td>16109.00</td>\n",
       "    </tr>\n",
       "    <tr>\n",
       "      <th>2</th>\n",
       "      <td>7</td>\n",
       "      <td>24748.43</td>\n",
       "    </tr>\n",
       "    <tr>\n",
       "      <th>3</th>\n",
       "      <td>2</td>\n",
       "      <td>18405.00</td>\n",
       "    </tr>\n",
       "    <tr>\n",
       "      <th>4</th>\n",
       "      <td>5</td>\n",
       "      <td>17549.80</td>\n",
       "    </tr>\n",
       "    <tr>\n",
       "      <th>5</th>\n",
       "      <td>6</td>\n",
       "      <td>10142.17</td>\n",
       "    </tr>\n",
       "    <tr>\n",
       "      <th>6</th>\n",
       "      <td>12</td>\n",
       "      <td>7730.17</td>\n",
       "    </tr>\n",
       "    <tr>\n",
       "      <th>7</th>\n",
       "      <td>8</td>\n",
       "      <td>25594.12</td>\n",
       "    </tr>\n",
       "    <tr>\n",
       "      <th>8</th>\n",
       "      <td>7</td>\n",
       "      <td>14760.29</td>\n",
       "    </tr>\n",
       "    <tr>\n",
       "      <th>9</th>\n",
       "      <td>10</td>\n",
       "      <td>11932.10</td>\n",
       "    </tr>\n",
       "  </tbody>\n",
       "</table>\n",
       "</div>"
      ]
     },
     "execution_count": 45,
     "metadata": {},
     "output_type": "execute_result"
    }
   ],
   "execution_count": 45
  },
  {
   "metadata": {
    "ExecuteTime": {
     "end_time": "2025-08-25T17:12:23.431195Z",
     "start_time": "2025-08-25T17:12:23.420980Z"
    }
   },
   "cell_type": "code",
   "source": [
    "# Exibe as últimas 10 linhas do DataFrame após a criação das novas colunas\n",
    "carros[['idade', 'km_ano']].tail(10)"
   ],
   "id": "ac37f9b3829b6a28",
   "outputs": [
    {
     "data": {
      "text/plain": [
       "      idade   km_ano\n",
       "2058      0      inf\n",
       "2059      5 22888.00\n",
       "2060      8 18626.62\n",
       "2061     15 13719.27\n",
       "2062      5 17371.20\n",
       "2063      2 12283.00\n",
       "2064      9 13606.56\n",
       "2065      7 17207.43\n",
       "2066      4 14260.75\n",
       "2067      1 20218.00"
      ],
      "text/html": [
       "<div>\n",
       "<style scoped>\n",
       "    .dataframe tbody tr th:only-of-type {\n",
       "        vertical-align: middle;\n",
       "    }\n",
       "\n",
       "    .dataframe tbody tr th {\n",
       "        vertical-align: top;\n",
       "    }\n",
       "\n",
       "    .dataframe thead th {\n",
       "        text-align: right;\n",
       "    }\n",
       "</style>\n",
       "<table border=\"1\" class=\"dataframe\">\n",
       "  <thead>\n",
       "    <tr style=\"text-align: right;\">\n",
       "      <th></th>\n",
       "      <th>idade</th>\n",
       "      <th>km_ano</th>\n",
       "    </tr>\n",
       "  </thead>\n",
       "  <tbody>\n",
       "    <tr>\n",
       "      <th>2058</th>\n",
       "      <td>0</td>\n",
       "      <td>inf</td>\n",
       "    </tr>\n",
       "    <tr>\n",
       "      <th>2059</th>\n",
       "      <td>5</td>\n",
       "      <td>22888.00</td>\n",
       "    </tr>\n",
       "    <tr>\n",
       "      <th>2060</th>\n",
       "      <td>8</td>\n",
       "      <td>18626.62</td>\n",
       "    </tr>\n",
       "    <tr>\n",
       "      <th>2061</th>\n",
       "      <td>15</td>\n",
       "      <td>13719.27</td>\n",
       "    </tr>\n",
       "    <tr>\n",
       "      <th>2062</th>\n",
       "      <td>5</td>\n",
       "      <td>17371.20</td>\n",
       "    </tr>\n",
       "    <tr>\n",
       "      <th>2063</th>\n",
       "      <td>2</td>\n",
       "      <td>12283.00</td>\n",
       "    </tr>\n",
       "    <tr>\n",
       "      <th>2064</th>\n",
       "      <td>9</td>\n",
       "      <td>13606.56</td>\n",
       "    </tr>\n",
       "    <tr>\n",
       "      <th>2065</th>\n",
       "      <td>7</td>\n",
       "      <td>17207.43</td>\n",
       "    </tr>\n",
       "    <tr>\n",
       "      <th>2066</th>\n",
       "      <td>4</td>\n",
       "      <td>14260.75</td>\n",
       "    </tr>\n",
       "    <tr>\n",
       "      <th>2067</th>\n",
       "      <td>1</td>\n",
       "      <td>20218.00</td>\n",
       "    </tr>\n",
       "  </tbody>\n",
       "</table>\n",
       "</div>"
      ]
     },
     "execution_count": 46,
     "metadata": {},
     "output_type": "execute_result"
    }
   ],
   "execution_count": 46
  },
  {
   "metadata": {},
   "cell_type": "markdown",
   "source": "## **Substituindo valores infinitos e NaN na coluna 'km_ano'**",
   "id": "76b9006851eaa55f"
  },
  {
   "metadata": {
    "ExecuteTime": {
     "end_time": "2025-08-25T17:12:23.502287Z",
     "start_time": "2025-08-25T17:12:23.491735Z"
    }
   },
   "cell_type": "code",
   "source": [
    "carros['km_ano'] = carros['km_ano'].replace([np.inf, -np.inf], np.nan) # Substitui inf e -inf por NaN\n",
    "carros['km_ano'] = carros['km_ano'].fillna(carros['km_ano'].median()) # Preenche NaN com a mediana\n",
    "carros['km_ano'].describe()"
   ],
   "id": "6f6696c2dca7a725",
   "outputs": [
    {
     "data": {
      "text/plain": [
       "count    2068.00\n",
       "mean    14373.76\n",
       "std      4947.22\n",
       "min      5515.25\n",
       "25%     10782.00\n",
       "50%     13684.21\n",
       "75%     16626.80\n",
       "max     27018.00\n",
       "Name: km_ano, dtype: float64"
      ]
     },
     "execution_count": 47,
     "metadata": {},
     "output_type": "execute_result"
    }
   ],
   "execution_count": 47
  },
  {
   "metadata": {
    "ExecuteTime": {
     "end_time": "2025-08-25T17:12:23.560117Z",
     "start_time": "2025-08-25T17:12:23.552875Z"
    }
   },
   "cell_type": "code",
   "source": "carros['km_ano'].tail(10)",
   "id": "c1c72068253f055a",
   "outputs": [
    {
     "data": {
      "text/plain": [
       "2058   13684.21\n",
       "2059   22888.00\n",
       "2060   18626.62\n",
       "2061   13719.27\n",
       "2062   17371.20\n",
       "2063   12283.00\n",
       "2064   13606.56\n",
       "2065   17207.43\n",
       "2066   14260.75\n",
       "2067   20218.00\n",
       "Name: km_ano, dtype: float64"
      ]
     },
     "execution_count": 48,
     "metadata": {},
     "output_type": "execute_result"
    }
   ],
   "execution_count": 48
  },
  {
   "metadata": {
    "ExecuteTime": {
     "end_time": "2025-08-25T17:12:23.628212Z",
     "start_time": "2025-08-25T17:12:23.613192Z"
    }
   },
   "cell_type": "code",
   "source": "carros.info()",
   "id": "d5aa4de988987ce0",
   "outputs": [
    {
     "name": "stdout",
     "output_type": "stream",
     "text": [
      "<class 'pandas.core.frame.DataFrame'>\n",
      "RangeIndex: 2068 entries, 0 to 2067\n",
      "Data columns (total 20 columns):\n",
      " #   Column                    Non-Null Count  Dtype  \n",
      "---  ------                    --------------  -----  \n",
      " 0   id_lista                  2068 non-null   int64  \n",
      " 1   N° Identificação Veículo  2068 non-null   object \n",
      " 2   marca                     2068 non-null   object \n",
      " 3   modelo                    2068 non-null   object \n",
      " 4   ano                       2068 non-null   int64  \n",
      " 5   versão                    2068 non-null   object \n",
      " 6   tipo_carroceria           2068 non-null   object \n",
      " 7   tipo_combustivel          2068 non-null   object \n",
      " 8   transmissão               2068 non-null   object \n",
      " 9   quilometragem             2068 non-null   int64  \n",
      " 10  preço                     2068 non-null   float64\n",
      " 11  condição                  2068 non-null   object \n",
      " 12  localização               2068 non-null   object \n",
      " 13  tipo_vendedor             2068 non-null   object \n",
      " 14  características           2068 non-null   object \n",
      " 15  estado                    2068 non-null   object \n",
      " 16  uf                        2068 non-null   object \n",
      " 17  pais                      2068 non-null   object \n",
      " 18  idade                     2068 non-null   int64  \n",
      " 19  km_ano                    2068 non-null   float64\n",
      "dtypes: float64(2), int64(4), object(14)\n",
      "memory usage: 323.3+ KB\n"
     ]
    }
   ],
   "execution_count": 49
  },
  {
   "metadata": {},
   "cell_type": "markdown",
   "source": "## **Excluindo colunas que nao afetaram as análises.**",
   "id": "9941014be7103394"
  },
  {
   "metadata": {
    "ExecuteTime": {
     "end_time": "2025-08-25T17:12:23.701011Z",
     "start_time": "2025-08-25T17:12:23.682234Z"
    }
   },
   "cell_type": "code",
   "source": [
    "carros = carros.drop(['N° Identificação Veículo','tipo_vendedor', 'versão','localização', 'id_lista','características'], axis=1)\n",
    "carros.head()"
   ],
   "id": "67cff508386157f3",
   "outputs": [
    {
     "data": {
      "text/plain": [
       "     marca    modelo   ano tipo_carroceria tipo_combustivel transmissão  \\\n",
       "0    Tesla   Model 3  2019           Coupe         Electric      Manual   \n",
       "1   Nissan     Rogue  2024           Sedan           Hybrid   Automatic   \n",
       "2  Hyundai       i20  2018       Crossover           Petrol   Automatic   \n",
       "3      Kia  Sportage  2023       Hatchback           Diesel         CVT   \n",
       "4      Kia    Seltos  2020          Pickup           Diesel   Automatic   \n",
       "\n",
       "   quilometragem    preço condição       estado     uf   pais  idade   km_ano  \n",
       "0          46134 19919.00     good  New Lindsey     GA     US      6  7689.00  \n",
       "1          16109 19480.00     good     Pughtown     CO     US      1 16109.00  \n",
       "2         173239  4556.00     good        Satna     HR  India      7 24748.43  \n",
       "3          36810 11536.00     fair          山武市  Osaka  Japan      2 18405.00  \n",
       "4          87749 14098.00     good       長生郡長生村  Osaka  Japan      5 17549.80  "
      ],
      "text/html": [
       "<div>\n",
       "<style scoped>\n",
       "    .dataframe tbody tr th:only-of-type {\n",
       "        vertical-align: middle;\n",
       "    }\n",
       "\n",
       "    .dataframe tbody tr th {\n",
       "        vertical-align: top;\n",
       "    }\n",
       "\n",
       "    .dataframe thead th {\n",
       "        text-align: right;\n",
       "    }\n",
       "</style>\n",
       "<table border=\"1\" class=\"dataframe\">\n",
       "  <thead>\n",
       "    <tr style=\"text-align: right;\">\n",
       "      <th></th>\n",
       "      <th>marca</th>\n",
       "      <th>modelo</th>\n",
       "      <th>ano</th>\n",
       "      <th>tipo_carroceria</th>\n",
       "      <th>tipo_combustivel</th>\n",
       "      <th>transmissão</th>\n",
       "      <th>quilometragem</th>\n",
       "      <th>preço</th>\n",
       "      <th>condição</th>\n",
       "      <th>estado</th>\n",
       "      <th>uf</th>\n",
       "      <th>pais</th>\n",
       "      <th>idade</th>\n",
       "      <th>km_ano</th>\n",
       "    </tr>\n",
       "  </thead>\n",
       "  <tbody>\n",
       "    <tr>\n",
       "      <th>0</th>\n",
       "      <td>Tesla</td>\n",
       "      <td>Model 3</td>\n",
       "      <td>2019</td>\n",
       "      <td>Coupe</td>\n",
       "      <td>Electric</td>\n",
       "      <td>Manual</td>\n",
       "      <td>46134</td>\n",
       "      <td>19919.00</td>\n",
       "      <td>good</td>\n",
       "      <td>New Lindsey</td>\n",
       "      <td>GA</td>\n",
       "      <td>US</td>\n",
       "      <td>6</td>\n",
       "      <td>7689.00</td>\n",
       "    </tr>\n",
       "    <tr>\n",
       "      <th>1</th>\n",
       "      <td>Nissan</td>\n",
       "      <td>Rogue</td>\n",
       "      <td>2024</td>\n",
       "      <td>Sedan</td>\n",
       "      <td>Hybrid</td>\n",
       "      <td>Automatic</td>\n",
       "      <td>16109</td>\n",
       "      <td>19480.00</td>\n",
       "      <td>good</td>\n",
       "      <td>Pughtown</td>\n",
       "      <td>CO</td>\n",
       "      <td>US</td>\n",
       "      <td>1</td>\n",
       "      <td>16109.00</td>\n",
       "    </tr>\n",
       "    <tr>\n",
       "      <th>2</th>\n",
       "      <td>Hyundai</td>\n",
       "      <td>i20</td>\n",
       "      <td>2018</td>\n",
       "      <td>Crossover</td>\n",
       "      <td>Petrol</td>\n",
       "      <td>Automatic</td>\n",
       "      <td>173239</td>\n",
       "      <td>4556.00</td>\n",
       "      <td>good</td>\n",
       "      <td>Satna</td>\n",
       "      <td>HR</td>\n",
       "      <td>India</td>\n",
       "      <td>7</td>\n",
       "      <td>24748.43</td>\n",
       "    </tr>\n",
       "    <tr>\n",
       "      <th>3</th>\n",
       "      <td>Kia</td>\n",
       "      <td>Sportage</td>\n",
       "      <td>2023</td>\n",
       "      <td>Hatchback</td>\n",
       "      <td>Diesel</td>\n",
       "      <td>CVT</td>\n",
       "      <td>36810</td>\n",
       "      <td>11536.00</td>\n",
       "      <td>fair</td>\n",
       "      <td>山武市</td>\n",
       "      <td>Osaka</td>\n",
       "      <td>Japan</td>\n",
       "      <td>2</td>\n",
       "      <td>18405.00</td>\n",
       "    </tr>\n",
       "    <tr>\n",
       "      <th>4</th>\n",
       "      <td>Kia</td>\n",
       "      <td>Seltos</td>\n",
       "      <td>2020</td>\n",
       "      <td>Pickup</td>\n",
       "      <td>Diesel</td>\n",
       "      <td>Automatic</td>\n",
       "      <td>87749</td>\n",
       "      <td>14098.00</td>\n",
       "      <td>good</td>\n",
       "      <td>長生郡長生村</td>\n",
       "      <td>Osaka</td>\n",
       "      <td>Japan</td>\n",
       "      <td>5</td>\n",
       "      <td>17549.80</td>\n",
       "    </tr>\n",
       "  </tbody>\n",
       "</table>\n",
       "</div>"
      ]
     },
     "execution_count": 50,
     "metadata": {},
     "output_type": "execute_result"
    }
   ],
   "execution_count": 50
  },
  {
   "metadata": {},
   "cell_type": "markdown",
   "source": "# ****Importanto para CSV****",
   "id": "2910b9857d1fbb18"
  },
  {
   "metadata": {
    "ExecuteTime": {
     "end_time": "2025-08-25T17:12:23.784636Z",
     "start_time": "2025-08-25T17:12:23.765737Z"
    }
   },
   "cell_type": "code",
   "source": "carros.to_csv(\"carros_2025.csv\", index=False, sep=\";\", encoding=\"utf-8\", decimal=\",\", float_format=\"%.2f\")",
   "id": "6705c53391f919a2",
   "outputs": [],
   "execution_count": 51
  },
  {
   "metadata": {},
   "cell_type": "markdown",
   "source": "# _**ANÁLISES**_",
   "id": "54de0117351bc7a5"
  },
  {
   "metadata": {},
   "cell_type": "markdown",
   "source": "## **Média de preço por país**",
   "id": "16a8bc9618a8029e"
  },
  {
   "cell_type": "code",
   "id": "329e870cd147e31d",
   "metadata": {
    "ExecuteTime": {
     "end_time": "2025-08-25T17:12:23.968034Z",
     "start_time": "2025-08-25T17:12:23.795739Z"
    }
   },
   "source": [
    "import matplotlib.pyplot as plt\n",
    "\n",
    "# Agrupando por pais e calculando a média de preço\n",
    "media_por_local = carros.groupby('pais')['preço'].sum().sort_values()\n",
    "\n",
    "# Criando o gráfico\n",
    "plt.figure(figsize=(15,6)) # Define o tamanho da figura\n",
    "media_por_local.plot(kind='barh', color='skyblue') # Gráfico de barras horizontais\n",
    "plt.title('Média de Preço por Pais') # Título do gráfico\n",
    "plt.xlabel('Preço Médio') # Título do eixo X\n",
    "plt.ylabel('Pais') # Título do eixo Y\n",
    "plt.xticks(rotation=0) # Rotação dos nomes no eixo X\n",
    "plt.grid(axis='x', linestyle='--', alpha=0.7) # Adiciona uma grade ao gráfico\n",
    "plt.tight_layout() # Ajusta o layout para evitar cortes\n",
    "plt.show() # Exibe o gráfico\n"
   ],
   "outputs": [
    {
     "data": {
      "text/plain": [
       "<Figure size 1500x600 with 1 Axes>"
      ],
      "image/png": "[encoded data removed]"
     },
     "metadata": {},
     "output_type": "display_data"
    }
   ],
   "execution_count": 52
  },
  {
   "metadata": {},
   "cell_type": "markdown",
   "source": "# **TOP 10 Fabricantes em Anúncios de Veículos (2025)**",
   "id": "8d65c1c7da3c53c7"
  },
  {
   "cell_type": "code",
   "id": "51153ff89d054f6a",
   "metadata": {
    "ExecuteTime": {
     "end_time": "2025-08-25T17:12:24.320663Z",
     "start_time": "2025-08-25T17:12:24.006447Z"
    }
   },
   "source": [
    "# Estilo do gráfico\n",
    "sns.set_style(\"whitegrid\")\n",
    "\n",
    "# Contar os fabricantes mais frequentes\n",
    "fabricantes_freq = carros['marca'].value_counts().nlargest(10)\n",
    "\n",
    "# Criar o gráfico de barras verticais\n",
    "plt.figure(figsize=(15, 6))\n",
    "sns.barplot(x=fabricantes_freq.index, y=fabricantes_freq.values, hue=fabricantes_freq.index, palette=\"viridis\", legend=False)\n",
    "\n",
    "plt.title('Top 10 Fabricantes em Anúncios de Veículos (2025)', fontsize=20, color='gray') # Título do gráfico\n",
    "plt.xlabel('Fabricante', fontsize=12, color='gray') # Titulo do eixo X\n",
    "plt.ylabel('Quantidade de Anúncios', fontsize=12, color='gray') # Titulo do eixo Y\n",
    "plt.xticks(rotation=0, fontsize=12) # Rotação dos nomes no eixo X e Tamanho da fonte\n",
    "plt.tight_layout() # Ajusta o layout para evitar sobreposição\n",
    "plt.show()\n"
   ],
   "outputs": [
    {
     "data": {
      "text/plain": [
       "<Figure size 1500x600 with 1 Axes>"
      ],
      "image/png": "[encoded data removed]"
     },
     "metadata": {},
     "output_type": "display_data"
    }
   ],
   "execution_count": 53
  },
  {
   "metadata": {},
   "cell_type": "markdown",
   "source": "## **Media de quilometragem por país**",
   "id": "60743ba345fece2e"
  },
  {
   "metadata": {
    "ExecuteTime": {
     "end_time": "2025-08-25T17:15:31.476563Z",
     "start_time": "2025-08-25T17:15:31.017659Z"
    }
   },
   "cell_type": "code",
   "source": [
    "carros.groupby(by=\"pais\").mean(numeric_only=True).sort_values(by=\"km_ano\",ascending=False).plot(y=\"km_ano\",kind=\"barh\",figsize=(15,6),color=\"blue\", legend=False)\n",
    "plt.title(\"Média de quilometragem por pais\", fontsize=20, color='gray')\n",
    "plt.xlabel(\"km/ano\", fontsize=12, color='gray')\n",
    "plt.ylabel(\"pais\", fontsize=12, color='gray')\n",
    "plt.grid(axis='x', linestyle='--', alpha=0.7) # Adiciona uma grade ao gráfico\n",
    "\n",
    "plt.show()"
   ],
   "id": "f06261d843bed70d",
   "outputs": [
    {
     "data": {
      "text/plain": [
       "<Figure size 1500x600 with 1 Axes>"
      ],
      "image/png": "[encoded data removed]"
     },
     "metadata": {},
     "output_type": "display_data"
    }
   ],
   "execution_count": 59
  },
  {
   "metadata": {},
   "cell_type": "markdown",
   "source": "## **Analisando a quilometragem média por tipo de combustível**",
   "id": "a30189a5c00e9a46"
  },
  {
   "metadata": {
    "ExecuteTime": {
     "end_time": "2025-08-25T17:12:24.575153Z",
     "start_time": "2025-08-25T17:12:24.564239Z"
    }
   },
   "cell_type": "code",
   "source": [
    "# Agrupar e calcular a média por tipo de combustível\n",
    "km_por_combustivel = carros.groupby('tipo_combustivel')['quilometragem'].mean().sort_values(ascending=False)\n",
    "\n",
    "# Exibir os resultados formatados\n",
    "for tipo, media in km_por_combustivel.items():\n",
    "    valor_formatado = f\"{media:,.0f}\".replace(\",\", \"X\").replace(\".\", \",\").replace(\"X\", \".\")\n",
    "    print(f\"{tipo:<18} {valor_formatado} km\")\n",
    "\n"
   ],
   "id": "c2ebabe3cb291aeb",
   "outputs": [
    {
     "name": "stdout",
     "output_type": "stream",
     "text": [
      "CNG                134.395 km\n",
      "Diesel             125.058 km\n",
      "Hybrid             124.246 km\n",
      "Petrol             121.000 km\n",
      "Plug-in Hybrid     100.009 km\n",
      "Electric           96.974 km\n"
     ]
    }
   ],
   "execution_count": 55
  },
  {
   "metadata": {},
   "cell_type": "markdown",
   "source": "Os carros movidos a CNG (gás natural) têm, em média, a maior quilometragem, seguidos por Diesel e Hybrid",
   "id": "ca5d7c7d0e1c0d19"
  },
  {
   "metadata": {},
   "cell_type": "markdown",
   "source": "##  **Idade Média por Tipo de Carroceria**",
   "id": "bd5b8ec4c5b87163"
  },
  {
   "metadata": {
    "ExecuteTime": {
     "end_time": "2025-08-25T17:12:24.631812Z",
     "start_time": "2025-08-25T17:12:24.624282Z"
    }
   },
   "cell_type": "code",
   "source": [
    "\n",
    "# Agrupar e calcular a média da idade por tipo de carroceria\n",
    "idade_por_carroceria = carros.groupby('tipo_carroceria')['idade'].mean().sort_values()\n",
    "\n",
    "# Exibir o resultado formatado com separador de milhar e 2 casas decimais\n",
    "for tipo, media in idade_por_carroceria.items():\n",
    "    print(f\"{tipo:<15} {media:5.2f} anos\")\n"
   ],
   "id": "26e22ea58d391dde",
   "outputs": [
    {
     "name": "stdout",
     "output_type": "stream",
     "text": [
      "Hatchback        7.39 anos\n",
      "MPV              7.46 anos\n",
      "Convertible      7.90 anos\n",
      "Crossover        7.96 anos\n",
      "SUV              8.00 anos\n",
      "Sedan            8.11 anos\n",
      "Pickup           8.35 anos\n",
      "Coupe            8.40 anos\n",
      "Van              8.65 anos\n"
     ]
    }
   ],
   "execution_count": 56
  },
  {
   "metadata": {},
   "cell_type": "markdown",
   "source": "Os carros Hatchback e MPV são os mais novos em média, enquanto os Van e Coupe tendem a ser mais antigos",
   "id": "e30d754589d01cd0"
  },
  {
   "metadata": {},
   "cell_type": "markdown",
   "source": "## **Gráfico de dispersão que mostra a correlação entre idade e preço dos carros**",
   "id": "46c210d606192076"
  },
  {
   "metadata": {
    "ExecuteTime": {
     "end_time": "2025-08-25T17:12:25.159443Z",
     "start_time": "2025-08-25T17:12:24.681767Z"
    }
   },
   "cell_type": "code",
   "source": [
    "# Converter colunas para numérico\n",
    "carros['preço'] = carros['preço'].astype(str).str.replace(',', '.').astype(float)\n",
    "carros['idade'] = pd.to_numeric(carros['idade'], errors='coerce')\n",
    "\n",
    "# Criar gráfico de dispersão com linha de tendência\n",
    "plt.figure(figsize=(15, 6)) # Define o tamanho da figura\n",
    "\n",
    "# cria o gráfico de dispersão com linha de tendência\n",
    "sns.regplot(\n",
    "    x='idade',\n",
    "    y='preço',\n",
    "    data=carros,\n",
    "    scatter_kws={'alpha': 0.5},     # transparência dos pontos\n",
    "    line_kws={'color': 'red'}       # cor da linha de tendência\n",
    ")\n",
    "\n",
    "# Adiciona títulos e rótulos\n",
    "plt.title('Correlação entre Idade e Preço dos Carros', fontsize=20, color='gray')\n",
    "plt.xlabel('Idade (anos)', fontsize=12, color='gray')\n",
    "plt.ylabel('Preço (USD)', fontsize=12, color='gray')\n",
    "plt.grid(True) # Adiciona uma grade ao gráfico\n",
    "plt.tight_layout() # Ajusta o layout para evitar cortes\n",
    "plt.show()"
   ],
   "id": "3c8f8f73b0698cba",
   "outputs": [
    {
     "data": {
      "text/plain": [
       "<Figure size 1500x600 with 1 Axes>"
      ],
      "image/png": "[encoded data removed]"
     },
     "metadata": {},
     "output_type": "display_data"
    }
   ],
   "execution_count": 57
  },
  {
   "metadata": {},
   "cell_type": "markdown",
   "source": [
    "**Tendência negativa:** Em geral, há uma tendência de queda no preço conforme a idade aumenta\n",
    "\n",
    "A dispersão mostra que há exceções — alguns carros antigos ainda têm preços elevados, possivelmente por serem modelos de luxo ou elétricos"
   ],
   "id": "91258d138b2609c3"
  },
  {
   "metadata": {},
   "cell_type": "markdown",
   "source": "## **Total de Carros Vendidos por Condição**",
   "id": "81f20be1458b633e"
  },
  {
   "metadata": {
    "ExecuteTime": {
     "end_time": "2025-08-25T17:12:25.395160Z",
     "start_time": "2025-08-25T17:12:25.172799Z"
    }
   },
   "cell_type": "code",
   "source": [
    "# Contar o número de carros por condição\n",
    "contagem_condicao = carros['condição'].value_counts().sort_values(ascending=False).reset_index()\n",
    "contagem_condicao.columns = ['condição', 'quantidade']\n",
    "\n",
    "# Criar gráfico de barras com hue para evitar aviso de depreciação\n",
    "plt.figure(figsize=(15, 6))\n",
    "sns.barplot(data=contagem_condicao, x='condição', y='quantidade', hue='condição', dodge=False, palette='viridis')\n",
    "\n",
    "# Ajustes visuais\n",
    "plt.title('Total de Carros Vendidos por Condição', fontsize=20, color='gray')\n",
    "plt.xlabel('Condição do Carro', fontsize=12, color='gray')\n",
    "plt.ylabel('Quantidade Vendida', fontsize=12, color='gray')\n",
    "plt.legend([], [], frameon=False)  # remove legenda duplicada\n",
    "plt.xticks(rotation=0, fontsize=12, color='gray')  # Rotação dos nomes no eixo X e Tamanho da fonte\n",
    "plt.tight_layout()\n",
    "plt.show()"
   ],
   "id": "f2eded7512e49109",
   "outputs": [
    {
     "data": {
      "text/plain": [
       "<Figure size 1500x600 with 1 Axes>"
      ],
      "image/png": "[encoded data removed]"
     },
     "metadata": {},
     "output_type": "display_data"
    }
   ],
   "execution_count": 58
  }
 ],
 "metadata": {
  "kernelspec": {
   "display_name": "Python 3",
   "language": "python",
   "name": "python3"
  },
  "language_info": {
   "codemirror_mode": {
    "name": "ipython",
    "version": 2
   },
   "file_extension": ".py",
   "mimetype": "text/x-python",
   "name": "python",
   "nbconvert_exporter": "python",
   "pygments_lexer": "ipython2",
   "version": "2.7.6"
  }
 },
 "nbformat": 4,
 "nbformat_minor": 5
}
